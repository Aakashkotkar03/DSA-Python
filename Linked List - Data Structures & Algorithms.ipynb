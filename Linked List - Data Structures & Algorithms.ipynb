{
 "cells": [
  {
   "cell_type": "markdown",
   "id": "cc1d69de",
   "metadata": {},
   "source": [
    "# Linked List - Data Structures & Algorithms"
   ]
  },
  {
   "cell_type": "code",
   "execution_count": 22,
   "id": "992e037e",
   "metadata": {},
   "outputs": [],
   "source": [
    "## Node Class\n",
    "class Node:\n",
    "    def __init__(self, data=None, next=None):\n",
    "        self.data = data\n",
    "        self.next = next\n",
    "\n",
    "        \n",
    "#Purpose: Represents a single node in a linked list.\n",
    "#Attributes:\n",
    "    #data: Stores the value of the node.\n",
    "    #next: A reference to the next node in the linked list (defaults to None)."
   ]
  },
  {
   "cell_type": "code",
   "execution_count": 24,
   "id": "45fff266",
   "metadata": {},
   "outputs": [],
   "source": [
    "#LinkedList Class\n",
    "\n",
    "class LinkedList:          #Purpose: Represents the linked list itself.\n",
    "    def __init__(self): \n",
    "        self.head = None   #Attributes: #head: A reference to the first node in the linked list (initially None)\n",
    "\n",
    "#Print Method\n",
    "\n",
    "    def print(self):       #Purpose: Prints the elements of the linked list in a readable format.\n",
    "        if self.head is None:  #Checks if the linked list is empty.\n",
    "            print(\"Linked list is empty\")\n",
    "            return\n",
    "        itr = self.head        \n",
    "        llstr = ''\n",
    "        while itr:             #Iterates through the linked list and builds a string representation of the data.\n",
    "            llstr += str(itr.data) + ' --> ' if itr.next else str(itr.data)\n",
    "            itr = itr.next\n",
    "        print(llstr)           #Prints the string.\n",
    "    \n",
    "#Get Length Method\n",
    "    def get_length(self):  #Purpose: Returns the number of nodes in the linked list.\n",
    "        count = 0              #Initializes a counter.\n",
    "        itr = self.head\n",
    "        while itr:\n",
    "            count += 1         #Iterates through the list, incrementing the counter for each node.\n",
    "            itr = itr.next\n",
    "        return count           #Returns the count.\n",
    "\n",
    "\n",
    "#Insert at Beginning Method\n",
    "    def insert_at_begining(self, data): #Purpose: Inserts a new node with the given data at the beginning of the list.\n",
    "        node = Node(data, self.head)        #Creates a new node with data and next pointing to the current head.\n",
    "        self.head = node                    #Sets the new node as the head of the list.\n",
    "\n",
    "\n",
    "#Insert at End Method\n",
    "    def insert_at_end(self, data):      #Purpose: Inserts a new node with the given data at the end of the list.\n",
    "        if self.head is None:               #Checks if the list is empty; if so, sets the new node as the head.\n",
    "            self.head = Node(data, None)\n",
    "            return\n",
    "        itr = self.head\n",
    "        while itr.next:                     #Otherwise, iterates to the end of the list.\n",
    "            itr = itr.next\n",
    "        itr.next = Node(data, None)         #Adds the new node at the end.\n",
    "\n",
    "    \n",
    "    \n",
    "#Insert at Index Method\n",
    "    def insert_at(self, index, data):   #Purpose: Inserts a new node with the given data at the specified index.\n",
    "        if index < 0 or index > self.get_length():  #Checks if the index is valid.\n",
    "            raise Exception(\"Invalid Index\")\n",
    "        if index == 0:                              #If the index is 0, inserts at the beginning.\n",
    "            self.insert_at_begining(data)\n",
    "            return\n",
    "        count = 0\n",
    "        itr = self.head\n",
    "        while itr:                                  #Otherwise, iterates to the node just before the target index.\n",
    "            if count == index - 1:\n",
    "                node = Node(data, itr.next)\n",
    "                itr.next = node                     #Inserts the new node at the specified position.\n",
    "                break\n",
    "            itr = itr.next\n",
    "            count += 1\n",
    "\n",
    "\n",
    "#Remove at Index Method\n",
    "    def remove_at(self, index):                 #Purpose: Removes the node at the specified index.\n",
    "\n",
    "        if index < 0 or index >= self.get_length(): #Checks if the index is valid.\n",
    "            raise Exception(\"Invalid Index\")\n",
    "        if index == 0:                              #If the index is 0, removes the head.\n",
    "            self.head = self.head.next\n",
    "            return\n",
    "        count = 0\n",
    "        itr = self.head                             #Otherwise, iterates to the node just before the target index.\n",
    "        while itr:\n",
    "            if count == index - 1:                  #Adjusts the next pointer to skip the node being removed.\n",
    "                itr.next = itr.next.next\n",
    "                break\n",
    "            itr = itr.next\n",
    "            count += 1\n",
    "\n",
    "\n",
    "#Insert Values Method\n",
    "    def insert_values(self, data_list):         #Purpose: Inserts multiple values from a list into the linked list.\n",
    "        self.head = None                            #Resets the linked list to be empty.\n",
    "        for data in data_list:\n",
    "            self.insert_at_end(data)                #Iterates over the data list, inserting each value at the end of the linked list.\n",
    "\n",
    "\n",
    " "
   ]
  },
  {
   "cell_type": "code",
   "execution_count": 25,
   "id": "ec0bff3e",
   "metadata": {},
   "outputs": [
    {
     "name": "stdout",
     "output_type": "stream",
     "text": [
      "banana --> blueberry --> grapes --> orange\n",
      "45 --> 7 --> 12 --> 567 --> 99 --> 67\n"
     ]
    }
   ],
   "source": [
    "#Main Section\n",
    "\n",
    "if __name__ == '__main__':      #Purpose: Demonstrates the usage of the LinkedList class and its methods.\n",
    "    ll = LinkedList()           #Creates a LinkedList instance.\n",
    "    ll.insert_values([\"banana\", \"mango\", \"grapes\", \"orange\"])   #Inserts a list of fruit names into the linked list.\n",
    "    ll.insert_at(1, \"blueberry\")                                #Inserts \"blueberry\" at index 1.\n",
    "    ll.remove_at(2)                                             #Removes the element at index 2.\n",
    "    ll.print()                                                  #Prints the linked list.\n",
    "    ll.insert_values([45, 7, 12, 567, 99])                      #Inserts a list of numbers into the linked list.\n",
    "    ll.insert_at_end(67)                                        #Adds 67 at the end.\n",
    "    ll.print()                                                  #Prints the linked list.\n"
   ]
  },
  {
   "cell_type": "code",
   "execution_count": null,
   "id": "a75ffac5",
   "metadata": {},
   "outputs": [],
   "source": []
  },
  {
   "cell_type": "code",
   "execution_count": null,
   "id": "c68aa7ce",
   "metadata": {},
   "outputs": [],
   "source": []
  },
  {
   "cell_type": "code",
   "execution_count": null,
   "id": "41fa9b5d",
   "metadata": {},
   "outputs": [],
   "source": []
  },
  {
   "cell_type": "code",
   "execution_count": null,
   "id": "5fb33ef4",
   "metadata": {},
   "outputs": [],
   "source": []
  },
  {
   "cell_type": "code",
   "execution_count": null,
   "id": "d4bf69de",
   "metadata": {},
   "outputs": [],
   "source": []
  },
  {
   "cell_type": "code",
   "execution_count": null,
   "id": "6eee9b6e",
   "metadata": {},
   "outputs": [],
   "source": []
  },
  {
   "cell_type": "code",
   "execution_count": null,
   "id": "76c84a5b",
   "metadata": {},
   "outputs": [],
   "source": []
  },
  {
   "cell_type": "code",
   "execution_count": null,
   "id": "ae78c283",
   "metadata": {},
   "outputs": [],
   "source": []
  },
  {
   "cell_type": "code",
   "execution_count": null,
   "id": "bf2bc097",
   "metadata": {},
   "outputs": [],
   "source": []
  },
  {
   "cell_type": "code",
   "execution_count": null,
   "id": "bfcf7764",
   "metadata": {},
   "outputs": [],
   "source": []
  },
  {
   "cell_type": "code",
   "execution_count": null,
   "id": "f60294fd",
   "metadata": {},
   "outputs": [],
   "source": []
  },
  {
   "cell_type": "code",
   "execution_count": null,
   "id": "566288b1",
   "metadata": {},
   "outputs": [],
   "source": []
  },
  {
   "cell_type": "code",
   "execution_count": null,
   "id": "b7acc5f6",
   "metadata": {},
   "outputs": [],
   "source": []
  },
  {
   "cell_type": "code",
   "execution_count": null,
   "id": "18806115",
   "metadata": {},
   "outputs": [],
   "source": []
  },
  {
   "cell_type": "code",
   "execution_count": null,
   "id": "af63a965",
   "metadata": {},
   "outputs": [],
   "source": []
  },
  {
   "cell_type": "code",
   "execution_count": null,
   "id": "343bc564",
   "metadata": {},
   "outputs": [],
   "source": []
  },
  {
   "cell_type": "code",
   "execution_count": null,
   "id": "6cd69ba2",
   "metadata": {},
   "outputs": [],
   "source": []
  }
 ],
 "metadata": {
  "kernelspec": {
   "display_name": "Python 3 (ipykernel)",
   "language": "python",
   "name": "python3"
  },
  "language_info": {
   "codemirror_mode": {
    "name": "ipython",
    "version": 3
   },
   "file_extension": ".py",
   "mimetype": "text/x-python",
   "name": "python",
   "nbconvert_exporter": "python",
   "pygments_lexer": "ipython3",
   "version": "3.9.13"
  }
 },
 "nbformat": 4,
 "nbformat_minor": 5
}
